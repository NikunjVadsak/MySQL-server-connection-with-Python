{
 "cells": [
  {
   "cell_type": "code",
   "execution_count": null,
   "id": "97e21955",
   "metadata": {},
   "outputs": [],
   "source": [
    "# Importing Libraries\n",
    "import mysql.connector\n",
    "from mysql.connector import Error\n",
    "import pandas as pd"
   ]
  },
  {
   "cell_type": "code",
   "execution_count": null,
   "id": "59ae8435",
   "metadata": {},
   "outputs": [],
   "source": [
    "# Function to establish connection with mysql server\n",
    "def create_server_connection (host_name, user_name, user_password):\n",
    "    connection = None\n",
    "    try: \n",
    "        connection = mysql.connector.connect(\n",
    "            host = host_name, \n",
    "            user = user_name,\n",
    "            passwd = user_password\n",
    "        )\n",
    "        print(\"MySQL Database connection successful\")\n",
    "        \n",
    "    except Error as err:\n",
    "        print(f\"Error: '{err}''\")\n",
    "    \n",
    "    return connection\n",
    "\n",
    "# Put your MySQL Terminal Password\n",
    "pw = \"#######\"\n",
    "\n",
    "# Database name which is going to be created\n",
    "db = \"mysql_python\"\n",
    "\n",
    "connection = create_server_connection(\"localhost\", \"root\", pw )"
   ]
  },
  {
   "cell_type": "code",
   "execution_count": null,
   "id": "eb80be80",
   "metadata": {},
   "outputs": [],
   "source": [
    "# Function to create database\n",
    "def create_database(connection, query):\n",
    "    cursor = connection.cursor()\n",
    "    try:\n",
    "        cursor.execute(query)\n",
    "        print(\"Database created Successfully\")\n",
    "    except Error as err:\n",
    "        print(f\"Error: '{err}'\")\n",
    "\n",
    "# SQL Query \n",
    "create_database_query = \"create database mysql_python\"\n",
    "\n",
    "#Establishing Connection\n",
    "create_database(connection, create_database_query)"
   ]
  },
  {
   "cell_type": "code",
   "execution_count": null,
   "id": "83cd52e0",
   "metadata": {},
   "outputs": [],
   "source": [
    "# Function to Establish Connection with Created mysql_python Database\n",
    "def create_db_connection(host_name, user_name, user_password, db_name):\n",
    "    connection = None\n",
    "    try:\n",
    "        connection = mysql.connector.connect(\n",
    "            host = host_name, \n",
    "            user = user_name,\n",
    "            passwd = user_password,\n",
    "            database = db_name)\n",
    "        print(\"MySQL database connection successful\")\n",
    "        \n",
    "    except Error as err:\n",
    "        print(f\"Error: '{err}'\")  \n",
    "    \n",
    "    return connection\n",
    "    "
   ]
  },
  {
   "cell_type": "code",
   "execution_count": null,
   "id": "a891240d",
   "metadata": {},
   "outputs": [],
   "source": [
    "# Function to Execute SQL Queries\n",
    "def execute_query(connection, query):\n",
    "    cursor = connection.cursor()\n",
    "    \n",
    "    try:\n",
    "        cursor.execute(query)\n",
    "        connection.commit()\n",
    "        print(\"Query was executed successfully\")\n",
    "    \n",
    "    except Error as err:\n",
    "        print(f\"Error: '{err}'\")"
   ]
  },
  {
   "cell_type": "code",
   "execution_count": null,
   "id": "4be4bd56",
   "metadata": {},
   "outputs": [],
   "source": [
    "# Creating a table inside the mysql_python Database\n",
    "create_orders_table = \"\"\"\n",
    "create table orders (\n",
    "order_id int primary key,\n",
    "customer_name varchar(30) not null, \n",
    "product_name varchar(20) not null, \n",
    "date_ordered date,\n",
    "quantity int,\n",
    "unit_price float,\n",
    "phone_number varchar(20));\n",
    "\"\"\"\n",
    "\n",
    "#connection to the database\n",
    "connection = create_db_connection(\"localhost\", \"root\", pw ,db )\n",
    "execute_query(connection,create_orders_table)"
   ]
  },
  {
   "cell_type": "code",
   "execution_count": null,
   "id": "01c9192e",
   "metadata": {},
   "outputs": [],
   "source": [
    "# Inserting Data to the Created 'orders' table\n",
    "Data_orders = \"\"\"\n",
    "insert into orders values\n",
    "(101, 'Steve', 'Laptop', '2018-06-12', 2, 800, '6293730802'),\n",
    "(102, 'Jos', 'Books', '2019-02-10', 10, 12, '4566123789'),\n",
    "(103, 'Stacy', 'Trousers', '2019-12-25', 5, 50, '9876543210'),\n",
    "(104, 'Nancy', 'T-shirts', '2018-07-14', 7, 30, '4561237890'),\n",
    "(105, 'Maria', 'Headphones', '2019-05-30', 6, 48, '5465213287'),\n",
    "(106, 'Danny', 'Smart Tv', '2018-08-20', 10, 300, '5645231278');\n",
    "\"\"\"\n",
    "\n",
    "connection = create_db_connection(\"localhost\", \"root\", pw ,db)\n",
    "execute_query(connection,Data_orders)"
   ]
  },
  {
   "cell_type": "code",
   "execution_count": null,
   "id": "23be6acd",
   "metadata": {},
   "outputs": [],
   "source": [
    "# Function to Read/Fetch the Data from the Table\n",
    "def read_query(connection, query):\n",
    "    cursor = connection.cursor()\n",
    "    result = None\n",
    "    try:\n",
    "        cursor.execute(query)\n",
    "        result = cursor.fetchall()\n",
    "        return result\n",
    "    \n",
    "    except Error as err:\n",
    "        print(f\"Error: '{err}'\")"
   ]
  },
  {
   "cell_type": "code",
   "execution_count": null,
   "id": "48627444",
   "metadata": {},
   "outputs": [],
   "source": [
    "# Fetching Data Using SELECT statement\n",
    "q1 = \"\"\" select * from orders;\"\"\"\n",
    "\n",
    "connection = create_db_connection(\"localhost\", \"root\", pw ,db)\n",
    "results = read_query(connection, q1)\n",
    "\n",
    "for result in results:\n",
    "    print(result)"
   ]
  },
  {
   "cell_type": "code",
   "execution_count": null,
   "id": "52dac9ea",
   "metadata": {},
   "outputs": [],
   "source": [
    "# Fetching Data Using SELECT statement\n",
    "q2 = \"\"\" select customer_name, phone_number from orders;\"\"\"\n",
    "\n",
    "connection = create_db_connection(\"localhost\", \"root\", pw ,db)\n",
    "results = read_query(connection, q2)\n",
    "\n",
    "for result in results:\n",
    "    print(result)"
   ]
  },
  {
   "cell_type": "code",
   "execution_count": null,
   "id": "2b4db784",
   "metadata": {},
   "outputs": [],
   "source": [
    "# Fetching Data Using SELECT statement\n",
    "q3 = \"\"\" select year(date_ordered) from orders;\"\"\"\n",
    "\n",
    "connection = create_db_connection(\"localhost\", \"root\", pw ,db)\n",
    "results = read_query(connection, q3)\n",
    "\n",
    "for result in results:\n",
    "    print(result)"
   ]
  },
  {
   "cell_type": "code",
   "execution_count": null,
   "id": "9a26588c",
   "metadata": {},
   "outputs": [],
   "source": [
    "# Fetching Data Using SELECT statement\n",
    "q4 = \"\"\" select distinct(year(date_ordered)) from orders;\"\"\"\n",
    "\n",
    "connection = create_db_connection(\"localhost\", \"root\", pw ,db)\n",
    "results = read_query(connection, q4)\n",
    "\n",
    "for result in results:\n",
    "    print(result)"
   ]
  },
  {
   "cell_type": "code",
   "execution_count": null,
   "id": "6f4b46ae",
   "metadata": {},
   "outputs": [],
   "source": [
    "# Fetching Data Using SELECT statement\n",
    "q5 = \"\"\" select * from orders where date_ordered < '2018-12-31';\"\"\"\n",
    "\n",
    "connection = create_db_connection(\"localhost\", \"root\", pw ,db)\n",
    "results = read_query(connection, q5)\n",
    "\n",
    "for result in results:\n",
    "    print(result)"
   ]
  },
  {
   "cell_type": "code",
   "execution_count": null,
   "id": "b0214179",
   "metadata": {},
   "outputs": [],
   "source": [
    "# # Fetching All Databases using SHOW DATABASES query\n",
    "q6 = \"\"\" show databases;\"\"\"\n",
    "\n",
    "connection = create_db_connection(\"localhost\", \"root\", pw ,db)\n",
    "results = read_query(connection, q6)\n",
    "\n",
    "for result in results:\n",
    "    print(result)"
   ]
  },
  {
   "cell_type": "code",
   "execution_count": null,
   "id": "c4009262",
   "metadata": {},
   "outputs": [],
   "source": [
    "# Fetching Data Using SELECT statement with 'WHERE' condition\n",
    "q7 = \"\"\" select * from orders where date_ordered > '2018-12-31';\"\"\"\n",
    "\n",
    "connection = create_db_connection(\"localhost\", \"root\", pw ,db)\n",
    "results = read_query(connection, q7)\n",
    "\n",
    "for result in results:\n",
    "    print(result)"
   ]
  },
  {
   "cell_type": "code",
   "execution_count": null,
   "id": "9d847858",
   "metadata": {},
   "outputs": [],
   "source": [
    "# Fetching Data Using SELECT statement with 'ORDER BY' condition (sorting)\n",
    "q8 = \"\"\" \n",
    "select * from orders order by unit_price;\n",
    "\"\"\"\n",
    "\n",
    "connection = create_db_connection(\"localhost\", \"root\", pw ,db)\n",
    "results = read_query(connection, q8)\n",
    "\n",
    "for result in results:\n",
    "    print(result)"
   ]
  },
  {
   "cell_type": "code",
   "execution_count": null,
   "id": "6c5a5e11",
   "metadata": {},
   "outputs": [],
   "source": [
    "# Creating DataFrame from the fetched result\n",
    "from_db = []\n",
    "\n",
    "for result in results:\n",
    "    result = list(result)\n",
    "    from_db.append(result)\n",
    "    \n",
    "columns = [\"order_id\", \"Customer_name\", \"product_name\", \"date_ordered\", \"quantity\", \"unit_price\", \"phone_number\"]\n",
    "\n",
    "df = pd.DataFrame (from_db, columns=columns)\n",
    "\n",
    "display(df)"
   ]
  },
  {
   "cell_type": "code",
   "execution_count": null,
   "id": "69276671",
   "metadata": {},
   "outputs": [],
   "source": [
    "# Updating Table using 'UPDATE' Query\n",
    "update = \"\"\"\n",
    "update orders\n",
    "set unit_price = 45\n",
    "where order_id = 103\n",
    "\"\"\"\n",
    "\n",
    "connection = create_db_connection(\"localhost\", \"root\", pw ,db)\n",
    "execute_query(connection,update)\n"
   ]
  },
  {
   "cell_type": "code",
   "execution_count": null,
   "id": "498db7f0",
   "metadata": {},
   "outputs": [],
   "source": [
    "# Fetching specific record based on order_id\n",
    "q9 = \"\"\" select * from orders where order_id = 103;\"\"\"\n",
    "connection = create_db_connection(\"localhost\", \"root\", pw ,db)\n",
    "results = read_query(connection, q9)\n",
    "\n",
    "for result in results:\n",
    "    print(result)"
   ]
  },
  {
   "cell_type": "code",
   "execution_count": null,
   "id": "48b5f5d7",
   "metadata": {},
   "outputs": [],
   "source": [
    "# Removing specific record from the table using DELETE statement\n",
    "delete_order = \"\"\"\n",
    "delete from orders where order_id = 105\n",
    "\"\"\"\n",
    "\n",
    "connection = create_db_connection(\"localhost\", \"root\", pw ,db)\n",
    "execute_query(connection,delete_order)"
   ]
  },
  {
   "cell_type": "code",
   "execution_count": null,
   "id": "f02d261c",
   "metadata": {},
   "outputs": [],
   "source": [
    "# Fetching all the records after deleting specific record\n",
    "q10 = \"\"\" select * from orders ;\"\"\"\n",
    "\n",
    "connection = create_db_connection(\"localhost\", \"root\", pw ,db)\n",
    "results = read_query(connection, q10)\n",
    "\n",
    "for result in results:\n",
    "    print(result)"
   ]
  }
 ],
 "metadata": {
  "kernelspec": {
   "display_name": "Python 3",
   "language": "python",
   "name": "python3"
  },
  "language_info": {
   "codemirror_mode": {
    "name": "ipython",
    "version": 3
   },
   "file_extension": ".py",
   "mimetype": "text/x-python",
   "name": "python",
   "nbconvert_exporter": "python",
   "pygments_lexer": "ipython3",
   "version": "3.8.8"
  }
 },
 "nbformat": 4,
 "nbformat_minor": 5
}
